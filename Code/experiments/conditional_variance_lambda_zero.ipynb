{
 "cells": [
  {
   "attachments": {},
   "cell_type": "markdown",
   "id": "7dfcdc88",
   "metadata": {},
   "source": [
    "Notebook to reproduce Figure 4.b) of the paper\n"
   ]
  },
  {
   "cell_type": "code",
   "execution_count": 10,
   "id": "c1b9dbe4",
   "metadata": {},
   "outputs": [
    {
     "name": "stdout",
     "output_type": "stream",
     "text": [
      "The autoreload extension is already loaded. To reload it, use:\n",
      "  %reload_ext autoreload\n"
     ]
    }
   ],
   "source": [
    "import matplotlib.pyplot as plt\n",
    "from matplotlib.pyplot import figure\n",
    "import numpy as np\n",
    "import scipy.integrate as integrate\n",
    "import scipy.stats as stats\n",
    "import scipy.optimize as optimize\n",
    "import tqdm\n",
    "\n",
    "import sys\n",
    "sys.path.append('../core')\n",
    "sys.path.append('..')\n",
    "\n",
    "from core import erm, gamp\n",
    "from overlaps import Overlaps, average_overlaps\n",
    "import core.calibration\n",
    "import utility\n",
    "import joint_density\n",
    "import display as display_\n",
    "\n",
    "import gcmpyo3\n",
    "\n",
    "%load_ext autoreload\n",
    "%autoreload 2"
   ]
  },
  {
   "cell_type": "code",
   "execution_count": 11,
   "id": "66b65b14",
   "metadata": {},
   "outputs": [],
   "source": [
    "import matplotlib\n",
    "matplotlib.rcParams.update({'font.size': 14})\n",
    "plt.rc('xtick', labelsize=10)    # legend fontsize\n",
    "plt.rc('ytick', labelsize=10)    # legend fontsize\n",
    "plt.rc('legend', fontsize=10)    # legend fontsize"
   ]
  },
  {
   "cell_type": "code",
   "execution_count": 12,
   "id": "301a6022",
   "metadata": {},
   "outputs": [],
   "source": [
    "sigma = 0.5\n",
    "alphas = np.linspace(0.5, 15, 20)   \n"
   ]
  },
  {
   "cell_type": "markdown",
   "id": "4ff6ec94",
   "metadata": {},
   "source": [
    "### Compute overlaps"
   ]
  },
  {
   "cell_type": "code",
   "execution_count": 13,
   "id": "fe2a7313",
   "metadata": {},
   "outputs": [],
   "source": [
    "class Overlap:\n",
    "    def __init__(self, m, q, v, mhat, qhat, vhat) -> None:\n",
    "        self.m = m\n",
    "        self.q = q\n",
    "        self.v = v\n",
    "        self.mhat = mhat\n",
    "        self.qhat = qhat\n",
    "        self.vhat = vhat"
   ]
  },
  {
   "cell_type": "code",
   "execution_count": 14,
   "id": "db4d8aaa",
   "metadata": {},
   "outputs": [],
   "source": [
    "def compute_overlaps(alphas, lambdas, sigma):\n",
    "    overlaps = []\n",
    "\n",
    "    for (a, l) in zip(alphas, lambdas):\n",
    "        overlaps.append(Overlap(*gcmpyo3.state_evolution.erm_state_evolution_matching(a, sigma**2, l, 1.0, \"probit\", 1e-4, True, False)))\n",
    "    return overlaps"
   ]
  },
  {
   "cell_type": "code",
   "execution_count": 15,
   "id": "e0edf40f",
   "metadata": {},
   "outputs": [],
   "source": [
    "p = 0.75\n",
    "delta_p = 0.025\n",
    "sigma_0 = 2.0\n",
    "lambda_ = 1e-32\n",
    "\n",
    "overlaps_lambda_0 = compute_overlaps(alphas, lambda_ * np.ones(len(alphas)), sigma_0)\n",
    "overlaps_bo_lambda_0      = [Overlap(*gcmpyo3.state_evolution.bayes_optimal_state_evolution_matching(a, sigma_0**2, 1.0, \"probit\", lambda_, True, False)) for a in alphas]"
   ]
  },
  {
   "cell_type": "code",
   "execution_count": null,
   "id": "e195e9f3",
   "metadata": {},
   "outputs": [
    {
     "name": "stderr",
     "output_type": "stream",
     "text": [
      " 10%|█         | 3/30 [00:06<00:58,  2.18s/it]/Users/clarte/Code/Uncertainty/Papers/uncertainty-project/Code/experiments/../core/utility.py:12: RuntimeWarning: overflow encountered in exp\n",
      "  sigmoid = np.vectorize(lambda x : 1. / (1. + np.exp( -x )))\n",
      "/Users/clarte/Code/Uncertainty/Papers/uncertainty-project/Code/experiments/../core/utility.py:12: RuntimeWarning: overflow encountered in exp\n",
      "  sigmoid = np.vectorize(lambda x : 1. / (1. + np.exp( -x )))\n",
      "/Users/clarte/Code/Uncertainty/Papers/uncertainty-project/Code/experiments/../core/utility.py:12: RuntimeWarning: overflow encountered in exp\n",
      "  sigmoid = np.vectorize(lambda x : 1. / (1. + np.exp( -x )))\n",
      "/Users/clarte/Code/Uncertainty/Papers/uncertainty-project/Code/experiments/../core/utility.py:12: RuntimeWarning: overflow encountered in exp\n",
      "  sigmoid = np.vectorize(lambda x : 1. / (1. + np.exp( -x )))\n",
      "/Users/clarte/Code/Uncertainty/Papers/uncertainty-project/Code/experiments/../core/utility.py:12: RuntimeWarning: overflow encountered in exp\n",
      "  sigmoid = np.vectorize(lambda x : 1. / (1. + np.exp( -x )))\n",
      "/Users/clarte/Code/Uncertainty/Papers/uncertainty-project/Code/experiments/../core/utility.py:12: RuntimeWarning: overflow encountered in exp\n",
      "  sigmoid = np.vectorize(lambda x : 1. / (1. + np.exp( -x )))\n",
      "/Users/clarte/Code/Uncertainty/Papers/uncertainty-project/Code/experiments/../core/utility.py:12: RuntimeWarning: overflow encountered in exp\n",
      "  sigmoid = np.vectorize(lambda x : 1. / (1. + np.exp( -x )))\n",
      "/Users/clarte/Code/Uncertainty/Papers/uncertainty-project/Code/experiments/../core/utility.py:12: RuntimeWarning: overflow encountered in exp\n",
      "  sigmoid = np.vectorize(lambda x : 1. / (1. + np.exp( -x )))\n",
      "/Users/clarte/Code/Uncertainty/Papers/uncertainty-project/Code/experiments/../core/utility.py:12: RuntimeWarning: overflow encountered in exp\n",
      "  sigmoid = np.vectorize(lambda x : 1. / (1. + np.exp( -x )))\n",
      "/Users/clarte/Code/Uncertainty/Papers/uncertainty-project/Code/experiments/../core/utility.py:12: RuntimeWarning: overflow encountered in exp\n",
      "  sigmoid = np.vectorize(lambda x : 1. / (1. + np.exp( -x )))\n",
      "/opt/homebrew/Caskroom/miniconda/base/envs/ml/lib/python3.10/site-packages/numpy/core/fromnumeric.py:3715: RuntimeWarning: Degrees of freedom <= 0 for slice\n",
      "  return _methods._var(a, axis=axis, dtype=dtype, out=out, ddof=ddof,\n",
      "/opt/homebrew/Caskroom/miniconda/base/envs/ml/lib/python3.10/site-packages/numpy/core/_methods.py:223: RuntimeWarning: invalid value encountered in divide\n",
      "  arrmean = um.true_divide(arrmean, div, out=arrmean, casting='unsafe',\n",
      "/opt/homebrew/Caskroom/miniconda/base/envs/ml/lib/python3.10/site-packages/numpy/core/_methods.py:257: RuntimeWarning: invalid value encountered in double_scalars\n",
      "  ret = ret.dtype.type(ret / rcount)\n",
      "100%|██████████| 30/30 [00:45<00:00,  1.50s/it]\n"
     ]
    }
   ],
   "source": [
    "ntrials = 10\n",
    "ntest = int(10**5)\n",
    "d = 300\n",
    "\n",
    "wstar = np.random.normal(0, 1.0, d)\n",
    "wstar = wstar * np.sqrt(d) / np.linalg.norm(wstar)\n",
    "xtest = np.random.normal(0, 1.0, (ntest, d)) / np.sqrt(d)\n",
    "ftest = utility.probit(xtest @ wstar, sigma_0)\n",
    "\n",
    "exp_alphas = np.linspace(0.5, 15, 30)\n",
    "\n",
    "teacher_variance = []\n",
    "bo_variance = []\n",
    "\n",
    "for alpha in tqdm.tqdm(exp_alphas):\n",
    "    n = int(alpha * d)\n",
    "    variance_list = []\n",
    "    bo_variance_list = []\n",
    "    for trial in range(ntrials):\n",
    "        xtrain = np.random.normal(0, 1.0, (n, d)) / np.sqrt(d)\n",
    "        ytrain = np.sign(xtrain @ wstar + sigma_0 * np.random.normal(0, 1.0, n))\n",
    "        \n",
    "        what = erm.erm_logistic_regression(xtrain, ytrain, lambda_)\n",
    "        fhat = utility.sigmoid(xtest @ what)\n",
    "        index_p = np.where((fhat > p - delta_p) & (fhat < p + delta_p))[0]\n",
    "        fteacher = ftest[index_p]\n",
    "        variance_list.append(np.var(fteacher))\n",
    "\n",
    "        res_gamp = gamp.iterate_gamp(xtrain, ytrain, wstar, sig = sigma_0, verbose=False)\n",
    "        wbo, vbo = res_gamp[\"estimator\"], res_gamp[\"variances\"]\n",
    "        fbo = utility.probit(xtest @ wbo, np.sqrt(sigma_0**2 + np.mean(vbo)))\n",
    "        fbo = fbo[index_p]\n",
    "        bo_variance_list.append(np.var(fbo))\n",
    "\n",
    "    teacher_variance.append(np.mean(variance_list))\n",
    "    bo_variance.append(np.mean(bo_variance_list))"
   ]
  },
  {
   "cell_type": "code",
   "execution_count": null,
   "id": "e30d42bf",
   "metadata": {},
   "outputs": [
    {
     "data": {
      "image/png": "[encoded data removed]",
      "text/plain": [
       "<Figure size 640x480 with 1 Axes>"
      ]
     },
     "metadata": {},
     "output_type": "display_data"
    }
   ],
   "source": [
    "# plot the variance of the the teacher for lambda_error and lambda_loss\n",
    "\n",
    "variance_teacher = [ gcmpyo3.utility.conditional_variance_probit(o.m, o.q, sigma_0**2, 1.0, utility.sigmoid_inv(p)) for o in overlaps_lambda_0]\n",
    "variance_bo = [ gcmpyo3.utility.conditional_variance_probit(o.m, o.q, sigma_0**2 + 1.0 - obo.q, obo.q, utility.sigmoid_inv(p)) for o, obo in zip(overlaps_lambda_0, overlaps_bo_lambda_0)]\n",
    "\n",
    "plt.plot(alphas, variance_teacher, label='Variance $f_{\\star}$', c='b')\n",
    "plt.scatter(exp_alphas, teacher_variance, c='b', marker='x')\n",
    "plt.plot(alphas, variance_bo, label='Variance of $\\hat{f}_{BO}$', c='r')\n",
    "plt.scatter(exp_alphas, bo_variance, c='r', marker='x')\n",
    "\n",
    "plt.grid()\n",
    "ax = plt.gca()\n",
    "ax.set_aspect(1.0/ax.get_data_ratio(), adjustable='box')\n",
    "\n",
    "plt.xlabel('$\\\\alpha$')\n",
    "plt.ylabel('$Var(f | \\hat{f}_{\\\\rm ERM}(x) = 0.75)$')\n",
    "plt.legend()\n",
    "\n",
    "# do a square plot\n",
    "plt.tight_layout()\n",
    "plt.savefig('conditional_variance.pdf')"
   ]
  }
 ],
 "metadata": {
  "kernelspec": {
   "display_name": "ml",
   "language": "python",
   "name": "python3"
  },
  "language_info": {
   "codemirror_mode": {
    "name": "ipython",
    "version": 3
   },
   "file_extension": ".py",
   "mimetype": "text/x-python",
   "name": "python",
   "nbconvert_exporter": "python",
   "pygments_lexer": "ipython3",
   "version": "3.10.6"
  },
  "vscode": {
   "interpreter": {
    "hash": "38cf3a2657c4530458a1d5b90a9ba637718c74089d900d5938397f33b4197fc5"
   }
  }
 },
 "nbformat": 4,
 "nbformat_minor": 5
}
